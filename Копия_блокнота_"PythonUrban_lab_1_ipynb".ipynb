{
  "nbformat": 4,
  "nbformat_minor": 0,
  "metadata": {
    "colab": {
      "provenance": [],
      "collapsed_sections": [
        "104gDPKbkMGF",
        "ziIc6kuVnMlV",
        "C2lbIinfkDAx"
      ],
      "include_colab_link": true
    },
    "kernelspec": {
      "name": "python3",
      "display_name": "Python 3"
    },
    "language_info": {
      "name": "python"
    }
  },
  "cells": [
    {
      "cell_type": "markdown",
      "metadata": {
        "id": "view-in-github",
        "colab_type": "text"
      },
      "source": [
        "<a href=\"https://colab.research.google.com/github/vitalybar/PythonUrbanITMO2022/blob/1_lab/%D0%9A%D0%BE%D0%BF%D0%B8%D1%8F_%D0%B1%D0%BB%D0%BE%D0%BA%D0%BD%D0%BE%D1%82%D0%B0_%22PythonUrban_lab_1_ipynb%22.ipynb\" target=\"_parent\"><img src=\"https://colab.research.google.com/assets/colab-badge.svg\" alt=\"Open In Colab\"/></a>"
      ]
    },
    {
      "cell_type": "markdown",
      "metadata": {
        "id": "ui4tAjhmzeMP"
      },
      "source": [
        "## list comprehension"
      ]
    },
    {
      "cell_type": "markdown",
      "source": [
        "### Обработка каждого элемента"
      ],
      "metadata": {
        "id": "n9NGbRXTfprL"
      }
    },
    {
      "cell_type": "code",
      "metadata": {
        "colab": {
          "base_uri": "https://localhost:8080/"
        },
        "id": "iNRAdVgAz4Dy",
        "outputId": "b3a65af9-f981-44ec-ee2e-b6452d085f0d"
      },
      "source": [
        "cart = [3, 4, 12, 17, 19, 21, 23, 26, 30]\n",
        "\n",
        "cashier = []  # новый список с помощью метода append\n",
        "for item in cart:\n",
        "    cashier.append(item)\n",
        "print(cashier)\n",
        "\n",
        "cashier = [item for item in cart]\n",
        "print(cashier)"
      ],
      "execution_count": null,
      "outputs": [
        {
          "output_type": "stream",
          "name": "stdout",
          "text": [
            "[3, 4, 12, 17, 19, 21, 23, 26, 30]\n",
            "[3, 4, 12, 17, 19, 21, 23, 26, 30]\n"
          ]
        }
      ]
    },
    {
      "cell_type": "markdown",
      "metadata": {
        "id": "2M-NIZP0zisn"
      },
      "source": [
        "![](https://github.com/mrdbourke/python-list-comprehensions-tutorial/raw/f68f956c745932e1b824a69994706d715adde0a1/images/list-comprehensions-1.png)"
      ]
    },
    {
      "cell_type": "markdown",
      "source": [
        "### Фильтрация элементов"
      ],
      "metadata": {
        "id": "KqBclW8qfxjg"
      }
    },
    {
      "cell_type": "code",
      "metadata": {
        "id": "MeJH1lcB0RCF",
        "colab": {
          "base_uri": "https://localhost:8080/"
        },
        "outputId": "34128a00-bce8-4149-a06b-206483f732bd"
      },
      "source": [
        "cart = [5, 7, 9, 10, 12, 15, 19, 20, 22]\n",
        "\n",
        "cashier_3 = []\n",
        "for item in cart:\n",
        "    if item % 2 == 0:  # только четные\n",
        "        cashier_3.append(item)\n",
        "print(cashier_3)\n",
        "\n",
        "cashier_3 = [item for item in cart if item % 2 == 0]\n",
        "print(cashier_3)"
      ],
      "execution_count": null,
      "outputs": [
        {
          "output_type": "stream",
          "name": "stdout",
          "text": [
            "[10, 12, 20, 22]\n",
            "[10, 12, 20, 22]\n"
          ]
        }
      ]
    },
    {
      "cell_type": "markdown",
      "metadata": {
        "id": "snHVDtsj0Zx3"
      },
      "source": [
        "![](https://github.com/mrdbourke/python-list-comprehensions-tutorial/raw/f68f956c745932e1b824a69994706d715adde0a1/images/list-comprehensions-2.png)"
      ]
    },
    {
      "cell_type": "markdown",
      "source": [
        "## Задачи\n"
      ],
      "metadata": {
        "id": "tOmnw05raVhn"
      }
    },
    {
      "cell_type": "markdown",
      "metadata": {
        "id": "NIwLAKrLgJaD"
      },
      "source": [
        "##### ***Задача 1. Сделать название городов с заглавной буквы.***\n",
        "Написать функцию task_1, которая будет принимать список названий городов, а возвращать новый список, в котором в каждой строке первая буква будет заглавной, а все остальные строчные.  \n"
      ]
    },
    {
      "cell_type": "code",
      "metadata": {
        "colab": {
          "base_uri": "https://localhost:8080/"
        },
        "outputId": "d27020a4-ebcd-4502-8ae5-e94978251ef9",
        "id": "RrbpTwmwgJaE"
      },
      "source": [
        "list_cities = [\"москва\", \"иЖЕВСк Владивосток\", \"новосибирсК\", \"мУРМАНСК\"]\n",
        "\n",
        "new_list_cities = list_cities[1].title()\n",
        "\n",
        "def title(str):\n",
        "    \"\"\" Capitilize first letter of a str\"\"\"\n",
        "    return str.capitalize()\n",
        "\n",
        "new_list_cities = [title(i) for i in list_cities]  # TODO вызвать функцию и получить новый результат исходного списка list_cities\n",
        "\n",
        "print(new_list_cities)  # ['Москва', 'Ижевск', 'Владивосток', 'Новосибирск', 'Мурманск']"
      ],
      "execution_count": 2,
      "outputs": [
        {
          "output_type": "stream",
          "name": "stdout",
          "text": [
            "['Москва', 'Ижевск владивосток', 'Новосибирск', 'Мурманск']\n"
          ]
        }
      ]
    },
    {
      "cell_type": "markdown",
      "metadata": {
        "id": "HAFR21irgBpG"
      },
      "source": [
        "##### ***Задача 2. Отфильтровать города с населением больше 1 млн. человек.***\n",
        "\n",
        "Написать функцию task_2, которая будет принимать два аргумента список городов и численность населения.  \n",
        "Функция должна возвращать новый отфильтрованный список городов, где остались города только с население больше 1 млн. человек\n",
        "\n"
      ]
    },
    {
      "cell_type": "code",
      "source": [
        "list_dict_cities = [\n",
        "    {\n",
        "        \"name\": \"Москва\",\n",
        "        \"population\": 12 * 10 ** 6,\n",
        "    },\n",
        "    {\n",
        "        \"name\": \"Санкт-Петербург\",\n",
        "        \"population\": 5 * 10 ** 6,\n",
        "    },\n",
        "    {\n",
        "        \"name\": \"Ижевск\",\n",
        "        \"population\": 0.6 * 10 ** 6,\n",
        "    },\n",
        "]\n",
        "\n",
        "filter_population = 10 ** 6\n",
        "\n",
        "def cities_filtering(cities_list):\n",
        "    \"\"\"Return list with only cities that population is grater than 10^6\"\"\"\n",
        "    return [i[\"name\"] for i in cities_list if i[\"population\"] >  10 ** 6]\n",
        "      # TODO написать функцию task_2\n",
        "\n",
        "new_list_dict_cities = cities_filtering(list_dict_cities)  # TODO вызвать функцию и передать в неё значения list_dict_cities и filter_population\n",
        "\n",
        "print(new_list_dict_cities)  # [{'name': 'Москва', 'population': 12000000}, {'name': 'Санкт-Петербург', 'population': 5000000}]"
      ],
      "metadata": {
        "colab": {
          "base_uri": "https://localhost:8080/"
        },
        "id": "Ae_6bDglgMCw",
        "outputId": "b8fe40ca-073c-4a03-f682-aa671c2a6450"
      },
      "execution_count": 16,
      "outputs": [
        {
          "output_type": "stream",
          "name": "stdout",
          "text": [
            "['Москва', 'Санкт-Петербург']\n"
          ]
        }
      ]
    },
    {
      "cell_type": "markdown",
      "source": [
        "##### ***Задача 3. Найти общие города среди двух групп и отсортировать их в алфавитном порядке.***\n",
        "\n",
        "Написать функцию task_3, которая будет принимать 2 списка городов, а возвращать новый список, в котором будут города, которые есть в двух группах.  \n",
        "Результат функции должен быть отсортирован в алфавитном порядке. \n"
      ],
      "metadata": {
        "id": "104gDPKbkMGF"
      }
    },
    {
      "cell_type": "code",
      "source": [
        "first_group = [\"Москва\", 'Владивосток', \"Санкт-Петербург\"]\n",
        "second_group = ['Новосибирск', \"Ижевск\", \"Санкт-Петербург\", \"Москва\"]\n",
        "\n",
        "def common_cities (group_1, group_2):  # TODO Написать функцию task_3\n",
        "    \"\"\"Filtering common cities from two group\"\"\"\n",
        "    return sorted([i for i in group_1 if i in group_2])\n",
        "\n",
        "common_cities = common_cities(first_group, second_group)  # TODO вызвать функцию и передать в неё значения fisrt_group и second_group\n",
        "\n",
        "print(common_cities)  # ['Санкт-Петербург', 'Москва'] - это разве в алфавитном???"
      ],
      "metadata": {
        "id": "SPCFbF7pkM9V",
        "colab": {
          "base_uri": "https://localhost:8080/"
        },
        "outputId": "09b096df-b14a-4acd-aeb3-31d0d0297730"
      },
      "execution_count": 19,
      "outputs": [
        {
          "output_type": "stream",
          "name": "stdout",
          "text": [
            "['Москва', 'Санкт-Петербург']\n"
          ]
        }
      ]
    },
    {
      "cell_type": "markdown",
      "source": [
        "##### ***Задача 4. Найти количество упоминаний заданного города.***"
      ],
      "metadata": {
        "id": "ziIc6kuVnMlV"
      }
    },
    {
      "cell_type": "markdown",
      "source": [
        "У списка есть метод `count`, этот метод принимает значение,  \n",
        "и считает сколько раз он содержится в списке.  \n",
        "\n",
        "Написать функцию `task_4`, которая принимает два аргумента список городов,  \n",
        "где нужно искать заданный город.  \n",
        "И искомый город, количество упоминаний которого нужно подсчитать.\n",
        "Результатом должно быть количество вхождений города в списке.\n",
        "\n",
        "Города записанные в разных регистрах, считаются одинаковыми. \n"
      ],
      "metadata": {
        "id": "Agk6Y1eznNW7"
      }
    },
    {
      "cell_type": "code",
      "source": [
        "list_cities = [  # список городов\n",
        "    'Новосибирск',\n",
        "    'Владивосток',\n",
        "    'Москва',\n",
        "    'санкт-петербург',\n",
        "    'Владивосток',\n",
        "    'Москва',\n",
        "    'Санкт-Петербург',\n",
        "    'Москва',\n",
        "    'Новосибирск',\n",
        "    'Владивосток',\n",
        "    'Ижевск',\n",
        "    'Владивосток',\n",
        "    'Ижевск',\n",
        "    'САНКТ-ПЕТЕРБУРГ',\n",
        "    'Владивосток',\n",
        "    'Новосибирск',\n",
        "    'Владивосток',\n",
        "    'Ижевск',\n",
        "    'Москва',\n",
        "    'Санкт-Петербург'\n",
        "]\n",
        "find_city = 'Санкт-Петербург'  # искомый город\n",
        "\n",
        "def counting_cities(sities_list, city_find):  # написать функцию task_4\n",
        "    \"\"\"Count number of finding cities\"\"\"\n",
        "    return len([i.lower() for i in sities_list if i.lower() == city_find.lower()])\n",
        "\n",
        "count_cities = counting_cities(list_cities, find_city)  # TODO вызвать функцию и передать в неё значения list_cities и find_city\n",
        "\n",
        "print(count_cities)  # 4"
      ],
      "metadata": {
        "colab": {
          "base_uri": "https://localhost:8080/"
        },
        "id": "w-K1BmXqnq6r",
        "outputId": "0f0e7d86-f969-4e77-982d-e3dced8b4d23"
      },
      "execution_count": 25,
      "outputs": [
        {
          "output_type": "stream",
          "name": "stdout",
          "text": [
            "4\n"
          ]
        }
      ]
    },
    {
      "cell_type": "markdown",
      "source": [
        "##### ***Задача 5. Средний индекс озеленения.***\n",
        "\n",
        "Дан список словарей территорий, где `territory_area` - площадь территории, а `green_zones` список площадей зеленых зон.  \n",
        "Написать две функции:\n",
        "- первая будет принимать исходный список городов, и возвращать новый список словарей, в котором для каждой территории посчитан индекс индекс озеленения, как отношение площади зеленых зон к площади территории. Новые словари в списке должен содержать название территории и её индекс озеленения. \n",
        "- вторая функция принимает список словарей, в которых посчитаны индексы озеленения для каждой территории и возвращает средний индекс озеленения по всем территориям. "
      ],
      "metadata": {
        "id": "C2lbIinfkDAx"
      }
    },
    {
      "cell_type": "code",
      "source": [
        "from os import getgrouplist\n",
        "list_territories = [\n",
        "    {\n",
        "        \"territory_name\": \"Пушкин\",\n",
        "        \"territory_area\": 28676,\n",
        "        \"green_zones\": [302, 487, 420, 325, 471, 363, 404]\n",
        "    },\n",
        "    {\n",
        "        \"territory_name\": \"Павловск\",\n",
        "        \"territory_area\": 21025,\n",
        "        \"green_zones\": [360, 375, 223, 258, 345, 296, 303]\n",
        "    },\n",
        "    {\n",
        "        \"territory_name\": \"Петергоф\",\n",
        "        \"territory_area\": 44274,\n",
        "        \"green_zones\": [364, 447, 438, 223, 336, 431, 442]\n",
        "    },\n",
        "]\n",
        "\n",
        "# TODO написать функцию, которая будет высчитывать индексы озеленения для каждой территории\n",
        "def green_index(territories_list):\n",
        "    for i in territories_list:\n",
        "        i[\"green_index\"] = sum(i.get(\"green_zones\", 0)) / i.get(\"territory_area\") \n",
        "    return territories_list\n",
        "\n",
        "# TODO написать функцию, которая будет высчитывать средний индекс озеленения по всем территориям\n",
        "def mean_green_class(territories_list):\n",
        "    return sum([i.get(\"green_index\", 0) for i in territories_list])/len(territories_list)\n",
        "# TODO распечатать результат округленный до 4 знаков после запятой\n",
        "print(f\"Mean class of landscaping is {mean_green_class(green_index(list_territories)):.4f}\")"
      ],
      "metadata": {
        "id": "48scmiImcKCf",
        "colab": {
          "base_uri": "https://localhost:8080/"
        },
        "outputId": "3d0a1a54-7ce9-47a2-a974-f3d70f54ac5a"
      },
      "execution_count": 36,
      "outputs": [
        {
          "output_type": "stream",
          "name": "stdout",
          "text": [
            "Mean class of landscaping is 0.0867\n"
          ]
        }
      ]
    }
  ]
}